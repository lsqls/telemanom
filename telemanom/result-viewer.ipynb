{
 "cells": [
  {
   "cell_type": "markdown",
   "metadata": {},
   "source": [
    "# Results \n",
    "- Plot training/test telemetry values, predictions, smoothed errors, and predicted and actual anomalies\n",
    "- A specified results file from the `results` dir is used to highlight anomalous regions and read in data from the `data` dir"
   ]
  },
  {
   "cell_type": "code",
   "execution_count": 44,
   "metadata": {},
   "outputs": [
    {
     "data": {
      "text/html": [
       "        <script type=\"text/javascript\">\n",
       "        window.PlotlyConfig = {MathJaxConfig: 'local'};\n",
       "        if (window.MathJax) {MathJax.Hub.Config({SVG: {font: \"STIX-Web\"}});}\n",
       "        if (typeof require !== 'undefined') {\n",
       "        require.undef(\"plotly\");\n",
       "        requirejs.config({\n",
       "            paths: {\n",
       "                'plotly': ['https://cdn.plot.ly/plotly-latest.min']\n",
       "            }\n",
       "        });\n",
       "        require(['plotly'], function(Plotly) {\n",
       "            window._Plotly = Plotly;\n",
       "        });\n",
       "        }\n",
       "        </script>\n",
       "        "
      ]
     },
     "metadata": {},
     "output_type": "display_data"
    },
    {
     "data": {
      "text/html": [
       "        <script type=\"text/javascript\">\n",
       "        window.PlotlyConfig = {MathJaxConfig: 'local'};\n",
       "        if (window.MathJax) {MathJax.Hub.Config({SVG: {font: \"STIX-Web\"}});}\n",
       "        if (typeof require !== 'undefined') {\n",
       "        require.undef(\"plotly\");\n",
       "        requirejs.config({\n",
       "            paths: {\n",
       "                'plotly': ['https://cdn.plot.ly/plotly-latest.min']\n",
       "            }\n",
       "        });\n",
       "        require(['plotly'], function(Plotly) {\n",
       "            window._Plotly = Plotly;\n",
       "        });\n",
       "        }\n",
       "        </script>\n",
       "        "
      ]
     },
     "metadata": {},
     "output_type": "display_data"
    },
    {
     "name": "stdout",
     "output_type": "stream",
     "text": [
      "The autoreload extension is already loaded. To reload it, use:\n",
      "  %reload_ext autoreload\n"
     ]
    }
   ],
   "source": [
    "import sys\n",
    "import numpy as np\n",
    "import os\n",
    "sys.path.insert(0, '..')\n",
    "import telemanom.helpers as helpers\n",
    "from telemanom.plotting import Plotter\n",
    "import pandas as pd\n",
    "import plotly as py\n",
    "from plotly.offline import download_plotlyjs, init_notebook_mode\n",
    "import cufflinks as cf\n",
    "import glob\n",
    "import yaml\n",
    "cf.go_offline()\n",
    "init_notebook_mode(connected=True)\n",
    "\n",
    "%load_ext autoreload\n",
    "%autoreload 2"
   ]
  },
  {
   "cell_type": "code",
   "execution_count": 45,
   "metadata": {},
   "outputs": [
    {
     "data": {
      "application/javascript": "IPython.OutputArea.prototype._should_scroll = function(lines) {\n    return false;\n}",
      "text/plain": [
       "<IPython.core.display.Javascript object>"
      ]
     },
     "metadata": {},
     "output_type": "display_data"
    }
   ],
   "source": [
    "%%javascript\n",
    "IPython.OutputArea.prototype._should_scroll = function(lines) {\n",
    "    return false;\n",
    "}"
   ]
  },
  {
   "cell_type": "markdown",
   "metadata": {},
   "source": [
    "## Select set of results to visualize"
   ]
  },
  {
   "cell_type": "code",
   "execution_count": 46,
   "metadata": {},
   "outputs": [],
   "source": [
    "# results_fn = '../results/2018-05-19_15.00.10.csv'\n",
    "# print(\"Prior run: %s\" %results_fn.split(\"/\")[-1])\n",
    "\n",
    "# # Default to most recent\n",
    "# results_fn = glob.glob('../results/*.csv')[-1]\n",
    "# print('Using most recent run: {}'.format(results_fn.split(\"/\")[-1]))\n",
    "\n",
    "# run_id = results_fn.split(\"/\")[-1][:-4]\n",
    "run_id=\"2022-04-23_15.30.31\""
   ]
  },
  {
   "cell_type": "markdown",
   "metadata": {},
   "source": [
    "## Parameters\n",
    "- See `config.yaml` for parameter explanations"
   ]
  },
  {
   "cell_type": "code",
   "execution_count": 47,
   "metadata": {},
   "outputs": [
    {
     "name": "stdout",
     "output_type": "stream",
     "text": [
      "train : True\n",
      "predict : True\n",
      "use_id : 2018-05-19_15.00.10\n",
      "batch_size : 70\n",
      "window_size : 30\n",
      "header : ['run_id', 'chan_id', 'spacecraft', 'num_anoms', 'anomaly_sequences', 'class', 'true_positives', 'false_positives', 'false_negatives', 'tp_sequences', 'fp_sequences', 'gaussian_p-value', 'num_values', 'normalized_error', 'eval_time', 'scores']\n",
      "smoothing_perc : 0.05\n",
      "error_buffer : 100\n",
      "loss_metric : mse\n",
      "optimizer : adam\n",
      "validation_split : 0.2\n",
      "dropout : 0.3\n",
      "lstm_batch_size : 64\n",
      "epochs : 35\n",
      "layers : [80, 80]\n",
      "patience : 10\n",
      "min_delta : 0.0003\n",
      "l_s : 250\n",
      "n_predictions : 10\n",
      "p : 0.13\n"
     ]
    }
   ],
   "source": [
    "# with open('../data/{}/params.log'.format(run_id), 'r') as f:\n",
    "#     for i,row in enumerate(f.readlines()):\n",
    "#         if len(row) < 2:\n",
    "#             break\n",
    "#         if i > 0:\n",
    "#             print(' '.join(row.split(' ')[3:]).replace('\\n',''))\n",
    "\n",
    "with open('../data/{}/config.yaml'.format(run_id), 'r') as f:\n",
    "    data = yaml.load(f, Loader=yaml.FullLoader)\n",
    "    for k,v in data.items():\n",
    "        print(k,\":\",v)\n"
   ]
  },
  {
   "cell_type": "markdown",
   "metadata": {},
   "source": [
    "## Summary of results"
   ]
  },
  {
   "cell_type": "code",
   "execution_count": 48,
   "metadata": {},
   "outputs": [
    {
     "name": "stdout",
     "output_type": "stream",
     "text": [
      "True Positives: 77\n",
      "False Positives: 19\n",
      "False Negatives: 28\n",
      "\n",
      "Precision: 0.80\n",
      "Recall: 0.73\n",
      "\n",
      "class  SMAP\n",
      "True Positives: 56\n",
      "False Positives: 18\n",
      "False Negatives: 13\n",
      "\n",
      "Precision: 0.76\n",
      "Recall: 0.81\n",
      "\n",
      "class  MSL\n",
      "True Positives: 21\n",
      "False Positives: 1\n",
      "False Negatives: 15\n",
      "\n",
      "Precision: 0.95\n",
      "Recall: 0.58\n"
     ]
    }
   ],
   "source": [
    "plotter = Plotter(run_id)\n",
    "plotter.all_result_summary()\n",
    "plotter.class_result_summary(\"SMAP\")\n",
    "plotter.class_result_summary(\"MSL\")"
   ]
  },
  {
   "cell_type": "markdown",
   "metadata": {},
   "source": [
    "## Interactive inline Plotly charts for viewing `y_test`, `y_hat`, and `smoothed errors (e_s)`\n",
    "- **Blue** highlighted regions indicate anomalous sequences detected by the system\n",
    "- If available, **Red** highlighted regions indicate true anomalous regions\n",
    "- Can also optionally plot training data by setting `plot_train=True`"
   ]
  },
  {
   "cell_type": "code",
   "execution_count": 49,
   "metadata": {
    "scrolled": false
   },
   "outputs": [],
   "source": [
    "# plotter.plot_channel('P-2', plot_errors=True, plot_train=True)"
   ]
  },
  {
   "cell_type": "code",
   "execution_count": 50,
   "metadata": {},
   "outputs": [],
   "source": [
    "#plotter.plot_all(plot_errors=True, plot_train=False)"
   ]
  }
 ],
 "metadata": {
  "kernelspec": {
   "display_name": "Python 3",
   "language": "python",
   "name": "python3"
  },
  "language_info": {
   "codemirror_mode": {
    "name": "ipython",
    "version": 3
   },
   "file_extension": ".py",
   "mimetype": "text/x-python",
   "name": "python",
   "nbconvert_exporter": "python",
   "pygments_lexer": "ipython3",
   "version": "3.6.13"
  }
 },
 "nbformat": 4,
 "nbformat_minor": 2
}
